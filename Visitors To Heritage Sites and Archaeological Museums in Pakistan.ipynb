{
 "cells": [
  {
   "cell_type": "markdown",
   "metadata": {},
   "source": [
    "# Visits to Heritage Sites and Archaeological Museums in Pakistan\n",
    "                                    from 2014 to 2019\n",
    "\n",
    "                              From Data Extraction to Analysis\n",
    "\n",
    "This project involves the following:\n",
    "\n",
    "- **Data Extraction from a complex excel worksheet using pandas and openpyxl**\n",
    "- **Data Transformation and Cleaning using pandas and regular expressions**\n",
    "- **Normalization**\n",
    "- **Database Creation and data population using sqlite and pandas**\n",
    "- **Data Analysis via SQL, pandas, matplotlib and seaborn**"
   ]
  },
  {
   "cell_type": "code",
   "execution_count": 99,
   "metadata": {
    "ExecuteTime": {
     "end_time": "2021-07-09T19:54:43.229208Z",
     "start_time": "2021-07-09T19:54:43.221588Z"
    }
   },
   "outputs": [],
   "source": [
    "import pandas as pd\n",
    "import numpy as np\n",
    "import matplotlib.pyplot as plt\n",
    "import openpyxl\n",
    "import re\n",
    "import sqlite3\n",
    "from sqlite3 import Error"
   ]
  },
  {
   "cell_type": "markdown",
   "metadata": {},
   "source": [
    "# Data Extraction\n",
    "\n",
    "The data is contained in an excel file. Merged cells separate the data. Moreover, the merged cells contain details of the year and the site type. A snapshot of the file is as below:\n",
    "\n",
    "<img src= \"Snapshot_of_DataFile.png\">"
   ]
  },
  {
   "cell_type": "code",
   "execution_count": 202,
   "metadata": {
    "ExecuteTime": {
     "end_time": "2021-07-09T21:00:42.275635Z",
     "start_time": "2021-07-09T21:00:21.116135Z"
    }
   },
   "outputs": [
    {
     "name": "stdout",
     "output_type": "stream",
     "text": [
      "Visitors at Archaeological Museums in Pakistan During January-December, 2014\n",
      "Visitors at Archaeological Museums in Pakistan During January-December, 2014\n",
      "Visitors at Heritage Site in Pakistan During January-December, 2014\n",
      "Visitors at Heritage Site in Pakistan During January-December, 2014\n",
      "Visitors at Archaeological Museums in Pakistan During January-December, 2015\n",
      "Visitors at Archaeological Museums in Pakistan During January-December, 2015\n",
      "Visitors at Heritage Site in Pakistan During January-December, 2015\n",
      "Visitors at Heritage Site in Pakistan During January-December, 2015\n",
      "Visitors at Archaeological Museums in Pakistan During January-December, 2016\n",
      "Visitors at Archaeological Museums in Pakistan During January-December, 2016\n",
      "Visitors at Heritage Site in Pakistan During January-December, 2016\n",
      "Visitors at Heritage Site in Pakistan During January-December, 2016\n",
      "Visitors at Archaeological Museums in Pakistan During January-December, 2017\n",
      "Visitors at Archaeological Museums in Pakistan During January-December, 2017\n",
      "Visitors at Heritage Site in Pakistan During January-December, 2017\n",
      "Visitors at Heritage Site in Pakistan During January-December, 2017\n",
      "Visitors at Archaeological Museums in Pakistan During January-December, 2018\n",
      "Visitors at Archaeological Museums in Pakistan During January-December, 2018\n",
      "Visitors at Heritage Site in Pakistan During January-December, 2018\n",
      "Visitors at Heritage Site in Pakistan During January-December, 2018\n",
      "Visitors at Archaeological Museums in Pakistan During January-December, 2019\n",
      "Visitors at Archaeological Museums in Pakistan During January-December, 2019\n",
      "Visitors at Heritage Site in Pakistan During January-December, 2019\n",
      "Visitors at Heritage Site in Pakistan During January-December, 2019\n"
     ]
    }
   ],
   "source": [
    "# Read spreadsheet\n",
    "wb = openpyxl.load_workbook(\"archaelogical_museums_data.xlsx\")\n",
    "sheet = wb[\"Table 1\"]\n",
    "\n",
    "# the data is in one spreadsheet, divided by headings\n",
    "# we'll identify rows which contains the headings and use the row numbers to read the data\n",
    "\n",
    "new_df_row = []\n",
    "\n",
    "#loop over the rows, read the cell value. If value contains visitors append to list\n",
    "for row in range(1, sheet.max_row + 1):\n",
    "    cell_value = sheet[\"A\" + str(row)].value\n",
    "    if cell_value:\n",
    "        if \"Visitors\" in cell_value:\n",
    "            new_df_row.append(row)\n",
    "            #print(cell_value)\n",
    "            \n",
    "#read the data using row numbers and store in list\n",
    "\n",
    "dfs = []\n",
    "\n",
    "#read the data, create a dataframe for each sub-section and append to the dfs list\n",
    "for i in range(len(new_df_row)):\n",
    "    #print(new_df_row[i])\n",
    "    if i < len(new_df_row)-1:\n",
    "        data = pd.read_excel(\"archaelogical_museums_data.xlsx\", header = [new_df_row[i], new_df_row[i] + 1], \n",
    "                  nrows = (new_df_row[i+1]-1) - (new_df_row[i]+2))\n",
    "        print(sheet[\"A\" + str(new_df_row[i])].value)\n",
    "        dfs.append(data)\n",
    "    else:\n",
    "        data = pd.read_excel(\"archaelogical_museums_data.xlsx\", header = [new_df_row[i], new_df_row[i] + 1], \n",
    "                  nrows = (sheet.max_row) - (new_df_row[i]+2))\n",
    "        print(sheet[\"A\" + str(new_df_row[i])].value)\n",
    "        dfs.append(data)"
   ]
  },
  {
   "cell_type": "markdown",
   "metadata": {},
   "source": [
    "# Data Transformation"
   ]
  },
  {
   "cell_type": "code",
   "execution_count": 203,
   "metadata": {
    "ExecuteTime": {
     "end_time": "2021-07-09T21:00:45.391853Z",
     "start_time": "2021-07-09T21:00:45.335525Z"
    }
   },
   "outputs": [
    {
     "data": {
      "text/html": [
       "<div>\n",
       "<style scoped>\n",
       "    .dataframe tbody tr th:only-of-type {\n",
       "        vertical-align: middle;\n",
       "    }\n",
       "\n",
       "    .dataframe tbody tr th {\n",
       "        vertical-align: top;\n",
       "    }\n",
       "\n",
       "    .dataframe thead tr th {\n",
       "        text-align: left;\n",
       "    }\n",
       "</style>\n",
       "<table border=\"1\" class=\"dataframe\">\n",
       "  <thead>\n",
       "    <tr>\n",
       "      <th></th>\n",
       "      <th colspan=\"3\" halign=\"left\">Area/ attraction</th>\n",
       "      <th colspan=\"7\" halign=\"left\">January</th>\n",
       "      <th>...</th>\n",
       "      <th colspan=\"5\" halign=\"left\">May</th>\n",
       "      <th colspan=\"5\" halign=\"left\">June</th>\n",
       "    </tr>\n",
       "    <tr>\n",
       "      <th></th>\n",
       "      <th>Unnamed: 0_level_1</th>\n",
       "      <th>Unnamed: 1_level_1</th>\n",
       "      <th>Unnamed: 2_level_1</th>\n",
       "      <th>Foreigner</th>\n",
       "      <th>Foreigner.1</th>\n",
       "      <th>Foreigner.2</th>\n",
       "      <th>National</th>\n",
       "      <th>National.1</th>\n",
       "      <th>National.2</th>\n",
       "      <th>National.3</th>\n",
       "      <th>...</th>\n",
       "      <th>Foreigner.2</th>\n",
       "      <th>National</th>\n",
       "      <th>National.1</th>\n",
       "      <th>National.2</th>\n",
       "      <th>National.3</th>\n",
       "      <th>Foreigner</th>\n",
       "      <th>Foreigner.1</th>\n",
       "      <th>National</th>\n",
       "      <th>National.1</th>\n",
       "      <th>National.2</th>\n",
       "    </tr>\n",
       "  </thead>\n",
       "  <tbody>\n",
       "    <tr>\n",
       "      <th>0</th>\n",
       "      <td>PAKISTAN</td>\n",
       "      <td>NaN</td>\n",
       "      <td>NaN</td>\n",
       "      <td>1101</td>\n",
       "      <td>NaN</td>\n",
       "      <td>NaN</td>\n",
       "      <td>118018</td>\n",
       "      <td>NaN</td>\n",
       "      <td>NaN</td>\n",
       "      <td>NaN</td>\n",
       "      <td>...</td>\n",
       "      <td>NaN</td>\n",
       "      <td>123107</td>\n",
       "      <td>NaN</td>\n",
       "      <td>NaN</td>\n",
       "      <td>NaN</td>\n",
       "      <td>823</td>\n",
       "      <td>NaN</td>\n",
       "      <td>140317</td>\n",
       "      <td>NaN</td>\n",
       "      <td>NaN</td>\n",
       "    </tr>\n",
       "    <tr>\n",
       "      <th>1</th>\n",
       "      <td>ISLAMABAD</td>\n",
       "      <td>NaN</td>\n",
       "      <td>NaN</td>\n",
       "      <td>287</td>\n",
       "      <td>NaN</td>\n",
       "      <td>NaN</td>\n",
       "      <td>60306</td>\n",
       "      <td>NaN</td>\n",
       "      <td>NaN</td>\n",
       "      <td>NaN</td>\n",
       "      <td>...</td>\n",
       "      <td>NaN</td>\n",
       "      <td>58264</td>\n",
       "      <td>NaN</td>\n",
       "      <td>NaN</td>\n",
       "      <td>NaN</td>\n",
       "      <td>271</td>\n",
       "      <td>NaN</td>\n",
       "      <td>68436</td>\n",
       "      <td>NaN</td>\n",
       "      <td>NaN</td>\n",
       "    </tr>\n",
       "    <tr>\n",
       "      <th>2</th>\n",
       "      <td>Pakistan Museum of Natural History</td>\n",
       "      <td>NaN</td>\n",
       "      <td>NaN</td>\n",
       "      <td>4</td>\n",
       "      <td>NaN</td>\n",
       "      <td>NaN</td>\n",
       "      <td>5862</td>\n",
       "      <td>NaN</td>\n",
       "      <td>NaN</td>\n",
       "      <td>NaN</td>\n",
       "      <td>...</td>\n",
       "      <td>NaN</td>\n",
       "      <td>5660</td>\n",
       "      <td>NaN</td>\n",
       "      <td>NaN</td>\n",
       "      <td>NaN</td>\n",
       "      <td>18</td>\n",
       "      <td>NaN</td>\n",
       "      <td>8160</td>\n",
       "      <td>NaN</td>\n",
       "      <td>NaN</td>\n",
       "    </tr>\n",
       "    <tr>\n",
       "      <th>3</th>\n",
       "      <td>Lok Virsa Heritage Museum</td>\n",
       "      <td>NaN</td>\n",
       "      <td>NaN</td>\n",
       "      <td>177</td>\n",
       "      <td>NaN</td>\n",
       "      <td>NaN</td>\n",
       "      <td>15869</td>\n",
       "      <td>NaN</td>\n",
       "      <td>NaN</td>\n",
       "      <td>NaN</td>\n",
       "      <td>...</td>\n",
       "      <td>NaN</td>\n",
       "      <td>9666</td>\n",
       "      <td>NaN</td>\n",
       "      <td>NaN</td>\n",
       "      <td>NaN</td>\n",
       "      <td>139</td>\n",
       "      <td>NaN</td>\n",
       "      <td>15653</td>\n",
       "      <td>NaN</td>\n",
       "      <td>NaN</td>\n",
       "    </tr>\n",
       "    <tr>\n",
       "      <th>4</th>\n",
       "      <td>Pakistan Monument Museum</td>\n",
       "      <td>NaN</td>\n",
       "      <td>NaN</td>\n",
       "      <td>106</td>\n",
       "      <td>NaN</td>\n",
       "      <td>NaN</td>\n",
       "      <td>38575</td>\n",
       "      <td>NaN</td>\n",
       "      <td>NaN</td>\n",
       "      <td>NaN</td>\n",
       "      <td>...</td>\n",
       "      <td>NaN</td>\n",
       "      <td>42938</td>\n",
       "      <td>NaN</td>\n",
       "      <td>NaN</td>\n",
       "      <td>NaN</td>\n",
       "      <td>114</td>\n",
       "      <td>NaN</td>\n",
       "      <td>44623</td>\n",
       "      <td>NaN</td>\n",
       "      <td>NaN</td>\n",
       "    </tr>\n",
       "  </tbody>\n",
       "</table>\n",
       "<p>5 rows × 42 columns</p>\n",
       "</div>"
      ],
      "text/plain": [
       "                     Area/ attraction                                        \\\n",
       "                   Unnamed: 0_level_1 Unnamed: 1_level_1 Unnamed: 2_level_1   \n",
       "0                            PAKISTAN                NaN                NaN   \n",
       "1                           ISLAMABAD                NaN                NaN   \n",
       "2  Pakistan Museum of Natural History                NaN                NaN   \n",
       "3           Lok Virsa Heritage Museum                NaN                NaN   \n",
       "4            Pakistan Monument Museum                NaN                NaN   \n",
       "\n",
       "    January                                                                    \\\n",
       "  Foreigner Foreigner.1 Foreigner.2 National National.1 National.2 National.3   \n",
       "0      1101         NaN         NaN   118018        NaN        NaN        NaN   \n",
       "1       287         NaN         NaN    60306        NaN        NaN        NaN   \n",
       "2         4         NaN         NaN     5862        NaN        NaN        NaN   \n",
       "3       177         NaN         NaN    15869        NaN        NaN        NaN   \n",
       "4       106         NaN         NaN    38575        NaN        NaN        NaN   \n",
       "\n",
       "   ...         May                                                June  \\\n",
       "   ... Foreigner.2 National National.1 National.2 National.3 Foreigner   \n",
       "0  ...         NaN   123107        NaN        NaN        NaN       823   \n",
       "1  ...         NaN    58264        NaN        NaN        NaN       271   \n",
       "2  ...         NaN     5660        NaN        NaN        NaN        18   \n",
       "3  ...         NaN     9666        NaN        NaN        NaN       139   \n",
       "4  ...         NaN    42938        NaN        NaN        NaN       114   \n",
       "\n",
       "                                              \n",
       "  Foreigner.1 National National.1 National.2  \n",
       "0         NaN   140317        NaN        NaN  \n",
       "1         NaN    68436        NaN        NaN  \n",
       "2         NaN     8160        NaN        NaN  \n",
       "3         NaN    15653        NaN        NaN  \n",
       "4         NaN    44623        NaN        NaN  \n",
       "\n",
       "[5 rows x 42 columns]"
      ]
     },
     "execution_count": 203,
     "metadata": {},
     "output_type": "execute_result"
    }
   ],
   "source": [
    "# now that we have all the data in the list (dfs) we need to do some wrangling to develop a usable dataset\n",
    "\n",
    "#data shows null columns, which have no use so we'll remove them\n",
    "\n",
    "dfs[0].head()"
   ]
  },
  {
   "cell_type": "code",
   "execution_count": 204,
   "metadata": {
    "ExecuteTime": {
     "end_time": "2021-07-09T21:00:48.039615Z",
     "start_time": "2021-07-09T21:00:47.947658Z"
    }
   },
   "outputs": [],
   "source": [
    "#drop empty columns\n",
    "\n",
    "for i in range(len(dfs)):\n",
    "    dfs[i] = dfs[i].dropna(axis = 1, how = \"all\")"
   ]
  },
  {
   "cell_type": "code",
   "execution_count": 205,
   "metadata": {
    "ExecuteTime": {
     "end_time": "2021-07-09T21:00:49.960384Z",
     "start_time": "2021-07-09T21:00:49.793038Z"
    }
   },
   "outputs": [],
   "source": [
    "#Convert the data to long format\n",
    "\n",
    "for i in range(len(dfs)):\n",
    "    dfs[i] = pd.melt(dfs[i], id_vars = [dfs[i].columns[0]])\n",
    "    dfs[i] = dfs[i].rename({dfs[i].columns[0]: \"site_name\",\"variable_0\": \"month\", \\\n",
    "                         \"variable_1\": \"visitor_type\", \"value\": \"num_visitors\"}, axis = 1)"
   ]
  },
  {
   "cell_type": "code",
   "execution_count": 206,
   "metadata": {
    "ExecuteTime": {
     "end_time": "2021-07-09T21:00:51.440925Z",
     "start_time": "2021-07-09T21:00:51.426401Z"
    }
   },
   "outputs": [
    {
     "data": {
      "text/html": [
       "<div>\n",
       "<style scoped>\n",
       "    .dataframe tbody tr th:only-of-type {\n",
       "        vertical-align: middle;\n",
       "    }\n",
       "\n",
       "    .dataframe tbody tr th {\n",
       "        vertical-align: top;\n",
       "    }\n",
       "\n",
       "    .dataframe thead th {\n",
       "        text-align: right;\n",
       "    }\n",
       "</style>\n",
       "<table border=\"1\" class=\"dataframe\">\n",
       "  <thead>\n",
       "    <tr style=\"text-align: right;\">\n",
       "      <th></th>\n",
       "      <th>site_name</th>\n",
       "      <th>month</th>\n",
       "      <th>visitor_type</th>\n",
       "      <th>num_visitors</th>\n",
       "    </tr>\n",
       "  </thead>\n",
       "  <tbody>\n",
       "    <tr>\n",
       "      <th>0</th>\n",
       "      <td>PAKISTAN</td>\n",
       "      <td>January</td>\n",
       "      <td>Foreigner</td>\n",
       "      <td>1101</td>\n",
       "    </tr>\n",
       "    <tr>\n",
       "      <th>1</th>\n",
       "      <td>ISLAMABAD</td>\n",
       "      <td>January</td>\n",
       "      <td>Foreigner</td>\n",
       "      <td>287</td>\n",
       "    </tr>\n",
       "    <tr>\n",
       "      <th>2</th>\n",
       "      <td>Pakistan Museum of Natural History</td>\n",
       "      <td>January</td>\n",
       "      <td>Foreigner</td>\n",
       "      <td>4</td>\n",
       "    </tr>\n",
       "    <tr>\n",
       "      <th>3</th>\n",
       "      <td>Lok Virsa Heritage Museum</td>\n",
       "      <td>January</td>\n",
       "      <td>Foreigner</td>\n",
       "      <td>177</td>\n",
       "    </tr>\n",
       "    <tr>\n",
       "      <th>4</th>\n",
       "      <td>Pakistan Monument Museum</td>\n",
       "      <td>January</td>\n",
       "      <td>Foreigner</td>\n",
       "      <td>106</td>\n",
       "    </tr>\n",
       "  </tbody>\n",
       "</table>\n",
       "</div>"
      ],
      "text/plain": [
       "                            site_name    month visitor_type num_visitors\n",
       "0                            PAKISTAN  January    Foreigner         1101\n",
       "1                           ISLAMABAD  January    Foreigner          287\n",
       "2  Pakistan Museum of Natural History  January    Foreigner            4\n",
       "3           Lok Virsa Heritage Museum  January    Foreigner          177\n",
       "4            Pakistan Monument Museum  January    Foreigner          106"
      ]
     },
     "execution_count": 206,
     "metadata": {},
     "output_type": "execute_result"
    }
   ],
   "source": [
    "dfs[0].head()"
   ]
  },
  {
   "cell_type": "code",
   "execution_count": 207,
   "metadata": {
    "ExecuteTime": {
     "end_time": "2021-07-09T21:00:53.532179Z",
     "start_time": "2021-07-09T21:00:53.516944Z"
    }
   },
   "outputs": [],
   "source": [
    "#Assign columns for region (province / federal capital), year, site_type\n",
    "\n",
    "def assign_region(df):\n",
    "    regions = [\"ISLAMABAD\", \"PUNJAB\", \"SINDH\", \"KHYBER PAKHTUNKHWA\", \"BALOCHISTAN\"]\n",
    "    df[\"Region\"] = 1\n",
    "    region = \"NA\"\n",
    "    for k,v in enumerate(df[\"site_name\"]):\n",
    "        if v in regions:\n",
    "            region = v\n",
    "        df.iloc[k,-1] = region\n",
    "\n",
    "def assign_year(dfs):\n",
    "    \"\"\"\n",
    "    Takes the list of dataframe, makes a column for the year.\n",
    "    Since four consecutive dataframes in our list fall within one year, \n",
    "    the year variable changes accordingly\n",
    "    \"\"\"\n",
    "    year = 2014\n",
    "    \n",
    "    for i in range(len(dfs)):\n",
    "        if i != 0 and i % 4 == 0:\n",
    "            year +=1\n",
    "            dfs[i][\"year\"] = year\n",
    "        else:\n",
    "            dfs[i][\"year\"] = year\n",
    "\n",
    "def assign_site_type(dfs):\n",
    "    \"\"\"\n",
    "    Site type changes after every two iterations. We keep track of the change through a variable.\n",
    "    Consistent with the data extract, if the variable is even we assign the \"Archaeological Museum\" \n",
    "    site type, otherwise we assign the \"Heritage Site\" site type,\n",
    "    \"\"\"\n",
    "    iteration = 0\n",
    "    for i in range(len(dfs)):\n",
    "        if (i!=0) and (i%2 == 0):\n",
    "            iteration +=1\n",
    "        if (iteration % 2 != 0):\n",
    "            dfs[i][\"site_type\"] = \"Heritage Site\"\n",
    "        elif (iteration % 2 == 0):\n",
    "            dfs[i][\"site_type\"] = \"Archaeological Museum\""
   ]
  },
  {
   "cell_type": "code",
   "execution_count": 208,
   "metadata": {
    "ExecuteTime": {
     "end_time": "2021-07-09T21:00:58.660236Z",
     "start_time": "2021-07-09T21:00:55.917466Z"
    }
   },
   "outputs": [],
   "source": [
    "# Create the site_type, region and year columns\n",
    "for i in range(len(dfs)):\n",
    "    assign_region(dfs[i])\n",
    "\n",
    "assign_site_type(dfs)\n",
    "\n",
    "assign_year(dfs)\n",
    "\n"
   ]
  },
  {
   "cell_type": "code",
   "execution_count": 209,
   "metadata": {
    "ExecuteTime": {
     "end_time": "2021-07-09T21:01:00.039823Z",
     "start_time": "2021-07-09T21:01:00.019454Z"
    }
   },
   "outputs": [
    {
     "data": {
      "text/html": [
       "<div>\n",
       "<style scoped>\n",
       "    .dataframe tbody tr th:only-of-type {\n",
       "        vertical-align: middle;\n",
       "    }\n",
       "\n",
       "    .dataframe tbody tr th {\n",
       "        vertical-align: top;\n",
       "    }\n",
       "\n",
       "    .dataframe thead th {\n",
       "        text-align: right;\n",
       "    }\n",
       "</style>\n",
       "<table border=\"1\" class=\"dataframe\">\n",
       "  <thead>\n",
       "    <tr style=\"text-align: right;\">\n",
       "      <th></th>\n",
       "      <th>site_name</th>\n",
       "      <th>month</th>\n",
       "      <th>visitor_type</th>\n",
       "      <th>num_visitors</th>\n",
       "      <th>Region</th>\n",
       "      <th>site_type</th>\n",
       "      <th>year</th>\n",
       "    </tr>\n",
       "  </thead>\n",
       "  <tbody>\n",
       "    <tr>\n",
       "      <th>0</th>\n",
       "      <td>PAKISTAN</td>\n",
       "      <td>January</td>\n",
       "      <td>Foreigner</td>\n",
       "      <td>1101</td>\n",
       "      <td>NA</td>\n",
       "      <td>Archaeological Museum</td>\n",
       "      <td>2014</td>\n",
       "    </tr>\n",
       "    <tr>\n",
       "      <th>1</th>\n",
       "      <td>ISLAMABAD</td>\n",
       "      <td>January</td>\n",
       "      <td>Foreigner</td>\n",
       "      <td>287</td>\n",
       "      <td>ISLAMABAD</td>\n",
       "      <td>Archaeological Museum</td>\n",
       "      <td>2014</td>\n",
       "    </tr>\n",
       "    <tr>\n",
       "      <th>2</th>\n",
       "      <td>Pakistan Museum of Natural History</td>\n",
       "      <td>January</td>\n",
       "      <td>Foreigner</td>\n",
       "      <td>4</td>\n",
       "      <td>ISLAMABAD</td>\n",
       "      <td>Archaeological Museum</td>\n",
       "      <td>2014</td>\n",
       "    </tr>\n",
       "    <tr>\n",
       "      <th>3</th>\n",
       "      <td>Lok Virsa Heritage Museum</td>\n",
       "      <td>January</td>\n",
       "      <td>Foreigner</td>\n",
       "      <td>177</td>\n",
       "      <td>ISLAMABAD</td>\n",
       "      <td>Archaeological Museum</td>\n",
       "      <td>2014</td>\n",
       "    </tr>\n",
       "    <tr>\n",
       "      <th>4</th>\n",
       "      <td>Pakistan Monument Museum</td>\n",
       "      <td>January</td>\n",
       "      <td>Foreigner</td>\n",
       "      <td>106</td>\n",
       "      <td>ISLAMABAD</td>\n",
       "      <td>Archaeological Museum</td>\n",
       "      <td>2014</td>\n",
       "    </tr>\n",
       "  </tbody>\n",
       "</table>\n",
       "</div>"
      ],
      "text/plain": [
       "                            site_name    month visitor_type num_visitors  \\\n",
       "0                            PAKISTAN  January    Foreigner         1101   \n",
       "1                           ISLAMABAD  January    Foreigner          287   \n",
       "2  Pakistan Museum of Natural History  January    Foreigner            4   \n",
       "3           Lok Virsa Heritage Museum  January    Foreigner          177   \n",
       "4            Pakistan Monument Museum  January    Foreigner          106   \n",
       "\n",
       "      Region              site_type  year  \n",
       "0         NA  Archaeological Museum  2014  \n",
       "1  ISLAMABAD  Archaeological Museum  2014  \n",
       "2  ISLAMABAD  Archaeological Museum  2014  \n",
       "3  ISLAMABAD  Archaeological Museum  2014  \n",
       "4  ISLAMABAD  Archaeological Museum  2014  "
      ]
     },
     "execution_count": 209,
     "metadata": {},
     "output_type": "execute_result"
    }
   ],
   "source": [
    "#dfs now have separate columns for region, year and site_type\n",
    "dfs[0].head()"
   ]
  },
  {
   "cell_type": "code",
   "execution_count": 210,
   "metadata": {
    "ExecuteTime": {
     "end_time": "2021-07-09T21:01:02.206339Z",
     "start_time": "2021-07-09T21:01:02.134215Z"
    }
   },
   "outputs": [],
   "source": [
    "#Finally we'll exclude the rows which have aggregates by region and then we'll concatenate the dataframes.\n",
    "\n",
    "regions = [\"PAKISTAN\",\"ISLAMABAD\", \"PUNJAB\", \"SINDH\", \"KHYBER PAKHTUNKHWA\", \"BALOCHISTAN\"]\n",
    "\n",
    "for i in range(len(dfs)):\n",
    "    dfs[i] = dfs[i][~(dfs[i][\"site_name\"].isin(regions))]\n",
    "\n",
    "data = pd.concat(dfs)"
   ]
  },
  {
   "cell_type": "code",
   "execution_count": 211,
   "metadata": {
    "ExecuteTime": {
     "end_time": "2021-07-09T21:01:04.301276Z",
     "start_time": "2021-07-09T21:01:04.290320Z"
    }
   },
   "outputs": [
    {
     "data": {
      "text/plain": [
       "(4872, 7)"
      ]
     },
     "execution_count": 211,
     "metadata": {},
     "output_type": "execute_result"
    }
   ],
   "source": [
    "#We now have a SINGLE DATASET with data from 2014-2019, in a usable format.\n",
    "\n",
    "data.shape"
   ]
  },
  {
   "cell_type": "markdown",
   "metadata": {},
   "source": [
    "# Data Cleaning\n",
    "\n",
    "The data is dirty. The most glaring issues are as follows:\n",
    "- same sites sometimes have different spellings\n",
    "- each site's city is attached with the name - we'll create a separate column for the site's city\n",
    "- the num_visitors column contains non-numeric data which likely represent no visitors. We'll put 0 in place of these non-numeric entries."
   ]
  },
  {
   "cell_type": "code",
   "execution_count": 212,
   "metadata": {
    "ExecuteTime": {
     "end_time": "2021-07-09T21:01:16.660009Z",
     "start_time": "2021-07-09T21:01:16.642657Z"
    }
   },
   "outputs": [
    {
     "data": {
      "text/plain": [
       "Region              site_name                                 \n",
       "BALOCHISTAN         Museum Balochistan, Quetta.                   144\n",
       "ISLAMABAD           Lok Virsa Heritage Museum                     144\n",
       "                    Pakistan Monument Museum                      144\n",
       "                    Pakistan Museum of Natural History            144\n",
       "                    Pakistan Railway Heritage Museum              120\n",
       "KHYBER PAKHTUNKHWA  Butkara Site Museum, Saidu Sharif, Swat       144\n",
       "                    Dir Museum,  Chakdara                          24\n",
       "                    Dir Museum,  Chekdara                         120\n",
       "                    Julian Site, Haripur                          144\n",
       "                    Museum Saidu Sharif, Swat.                    144\n",
       "                    Peshawar Museum, Peshawar.                    144\n",
       "                    Remains of Takht-i-Bhai, Mardan               144\n",
       "PUNJAB              Allama Iqbal Library & Museum, Sialkot.       144\n",
       "                    Allama Iqbal Museum, Javaid Manzil, Lahore    142\n",
       "                    Harappa, Sahiwal                              144\n",
       "                    Hiran Minar & Tank, Sheikhupura               144\n",
       "                    Jhangirs Tomb, Lahore                         144\n",
       "                    Lahore Museum Lahore                          144\n",
       "                    Museum, Harappa, District Sahiwal.            120\n",
       "                    Museum, Harappa, Sahiwal.                      24\n",
       "                    Museum, Taxila, Rawalpindi                    144\n",
       "                    PMDC Khewara Mines Museum, Chakwal            144\n",
       "                    Royal Fort (Shahi Qila), Lahore               144\n",
       "                    Shalimar Garden, Lahore                       144\n",
       "                    Taxila, Rawalpindi                            144\n",
       "SINDH               Banbhore , Thatta.                            144\n",
       "                    Makli Hill Monument, Thatta                   144\n",
       "                    Moenjodaro, Larkana.                          144\n",
       "                    Museum Umerkot,  Tharparkar.                   24\n",
       "                    Museum Umerkot, District Tharparkar.          118\n",
       "                    Museum, Banbhore, Thatta.                      24\n",
       "                    Museum, Bhambore, District Thatta.            120\n",
       "                    Museum, Moenjodaro, Larkana.                   12\n",
       "                    Museum,Moenjodaro, Larkana.                    12\n",
       "                    Museum,Monjodaro, Distric Larkana.            120\n",
       "                    National Museum of Pakistan, Karachi          144\n",
       "                    Quid-e-Azam Birth House, Karachi.             120\n",
       "                    Quid-e-Azam Birth Place, Karachi.             142\n",
       "                    Quid-e-Azam House Museum, Karachi.             24\n",
       "                    Sindh Provincial Museum, Hyderabad.           144\n",
       "                    Umerkot Fort, Tharparkar.                     144\n",
       "Name: num_visitors, dtype: int64"
      ]
     },
     "execution_count": 212,
     "metadata": {},
     "output_type": "execute_result"
    }
   ],
   "source": [
    "# Identify same sites with different spellings\n",
    "data.groupby([\"Region\",\"site_name\"])[\"num_visitors\"].count()"
   ]
  },
  {
   "cell_type": "code",
   "execution_count": 213,
   "metadata": {
    "ExecuteTime": {
     "end_time": "2021-07-09T21:01:19.297046Z",
     "start_time": "2021-07-09T21:01:19.291972Z"
    }
   },
   "outputs": [],
   "source": [
    "replacements = {\"Dir Museum,  Chekdara\" : \"Dir Museum,  Chakdara \", \\\n",
    "                \"Museum, Harappa, District Sahiwal.\" : \"Museum, Harappa, Sahiwal.\", \\\n",
    "               \"Museum, Bhambore, District Thatta.\": \"Museum, Banbhore, Thatta.\", \\\n",
    "               \"Museum,Moenjodaro, Larkana.\": \"Museum, Moenjodaro, Larkana.\", \\\n",
    "               \"Museum,Monjodaro, Distric Larkana.\" : \"Museum, Moenjodaro, Larkana.\", \\\n",
    "               \"Museum Umerkot, District Tharparkar.\" : \"Museum Umerkot,  Tharparkar.\"}"
   ]
  },
  {
   "cell_type": "code",
   "execution_count": 214,
   "metadata": {
    "ExecuteTime": {
     "end_time": "2021-07-09T21:01:20.824425Z",
     "start_time": "2021-07-09T21:01:20.810747Z"
    }
   },
   "outputs": [],
   "source": [
    "data[\"site_name\"] = data[\"site_name\"].replace(replacements)\n",
    "data[\"site_name\"] = data[\"site_name\"].str.strip()"
   ]
  },
  {
   "cell_type": "code",
   "execution_count": 215,
   "metadata": {
    "ExecuteTime": {
     "end_time": "2021-07-09T21:01:22.739723Z",
     "start_time": "2021-07-09T21:01:22.723789Z"
    }
   },
   "outputs": [
    {
     "data": {
      "text/plain": [
       "Region              site_name                                 \n",
       "BALOCHISTAN         Museum Balochistan, Quetta.                   144\n",
       "ISLAMABAD           Lok Virsa Heritage Museum                     144\n",
       "                    Pakistan Monument Museum                      144\n",
       "                    Pakistan Museum of Natural History            144\n",
       "                    Pakistan Railway Heritage Museum              120\n",
       "KHYBER PAKHTUNKHWA  Butkara Site Museum, Saidu Sharif, Swat       144\n",
       "                    Dir Museum,  Chakdara                         144\n",
       "                    Julian Site, Haripur                          144\n",
       "                    Museum Saidu Sharif, Swat.                    144\n",
       "                    Peshawar Museum, Peshawar.                    144\n",
       "                    Remains of Takht-i-Bhai, Mardan               144\n",
       "PUNJAB              Allama Iqbal Library & Museum, Sialkot.       144\n",
       "                    Allama Iqbal Museum, Javaid Manzil, Lahore    142\n",
       "                    Harappa, Sahiwal                              144\n",
       "                    Hiran Minar & Tank, Sheikhupura               144\n",
       "                    Jhangirs Tomb, Lahore                         144\n",
       "                    Lahore Museum Lahore                          144\n",
       "                    Museum, Harappa, Sahiwal.                     144\n",
       "                    Museum, Taxila, Rawalpindi                    144\n",
       "                    PMDC Khewara Mines Museum, Chakwal            144\n",
       "                    Royal Fort (Shahi Qila), Lahore               144\n",
       "                    Shalimar Garden, Lahore                       144\n",
       "                    Taxila, Rawalpindi                            144\n",
       "SINDH               Banbhore , Thatta.                            144\n",
       "                    Makli Hill Monument, Thatta                   144\n",
       "                    Moenjodaro, Larkana.                          144\n",
       "                    Museum Umerkot,  Tharparkar.                  142\n",
       "                    Museum, Banbhore, Thatta.                     144\n",
       "                    Museum, Moenjodaro, Larkana.                  144\n",
       "                    National Museum of Pakistan, Karachi          144\n",
       "                    Quid-e-Azam Birth House, Karachi.             120\n",
       "                    Quid-e-Azam Birth Place, Karachi.             142\n",
       "                    Quid-e-Azam House Museum, Karachi.             24\n",
       "                    Sindh Provincial Museum, Hyderabad.           144\n",
       "                    Umerkot Fort, Tharparkar.                     144\n",
       "Name: num_visitors, dtype: int64"
      ]
     },
     "execution_count": 215,
     "metadata": {},
     "output_type": "execute_result"
    }
   ],
   "source": [
    "# Checking if the issue is rectified:\n",
    "data.groupby([\"Region\",\"site_name\"])[\"num_visitors\"].count()"
   ]
  },
  {
   "cell_type": "code",
   "execution_count": 216,
   "metadata": {
    "ExecuteTime": {
     "end_time": "2021-07-09T21:01:25.462199Z",
     "start_time": "2021-07-09T21:01:25.451402Z"
    }
   },
   "outputs": [],
   "source": [
    "#Next - extract city data from site names\n",
    "\n",
    "site_names = data[\"site_name\"].value_counts().index\n",
    "\n",
    "city_name = re.compile(r\",\\s*([A-Za-z]+).?\\s*$\")\n",
    "site_and_city = {}\n",
    "city_not_found = []\n",
    "\n",
    "for i in site_names:\n",
    "    mo = city_name.search(i)\n",
    "    if mo is not None:\n",
    "        site_and_city[i] = mo.group(1)\n",
    "    else:\n",
    "        city_not_found.append(i)"
   ]
  },
  {
   "cell_type": "code",
   "execution_count": 217,
   "metadata": {
    "ExecuteTime": {
     "end_time": "2021-07-09T21:01:28.073922Z",
     "start_time": "2021-07-09T21:01:28.064118Z"
    }
   },
   "outputs": [
    {
     "data": {
      "text/plain": [
       "['Lok Virsa Heritage Museum',\n",
       " 'Pakistan Monument Museum',\n",
       " 'Lahore Museum Lahore',\n",
       " 'Pakistan Museum of Natural History',\n",
       " 'Pakistan Railway Heritage Museum']"
      ]
     },
     "execution_count": 217,
     "metadata": {},
     "output_type": "execute_result"
    }
   ],
   "source": [
    "#The city wasn't detected by the regex for the following entries :\n",
    "\n",
    "city_not_found"
   ]
  },
  {
   "cell_type": "code",
   "execution_count": 218,
   "metadata": {
    "ExecuteTime": {
     "end_time": "2021-07-09T21:01:29.673354Z",
     "start_time": "2021-07-09T21:01:29.667240Z"
    }
   },
   "outputs": [],
   "source": [
    "#the cities are identified and added to the site_and_city dict, which will be used to map the site_name to city\n",
    "#in the dataframe\n",
    "\n",
    "cities = [\"Islamabad\", \"Islamabad\", \"Islamabad\", \"Lahore\", \"Islamabad\"]\n",
    "\n",
    "extra_mapping = dict(zip(city_not_found, cities))\n",
    "site_and_city.update(extra_mapping)"
   ]
  },
  {
   "cell_type": "code",
   "execution_count": 219,
   "metadata": {
    "ExecuteTime": {
     "end_time": "2021-07-09T21:01:31.459335Z",
     "start_time": "2021-07-09T21:01:31.451351Z"
    }
   },
   "outputs": [],
   "source": [
    "# create a column for the site's city:\n",
    "\n",
    "data[\"site_city\"] = data[\"site_name\"].map(site_and_city)"
   ]
  },
  {
   "cell_type": "code",
   "execution_count": 220,
   "metadata": {
    "ExecuteTime": {
     "end_time": "2021-07-09T21:01:33.190129Z",
     "start_time": "2021-07-09T21:01:33.174117Z"
    }
   },
   "outputs": [],
   "source": [
    "# Remove the city information from the site name\n",
    "\n",
    "data[\"site_name\"] = (data[\"site_name\"]\n",
    "                     .str.replace(r\",\\s*([A-Za-z]+).?\\s*$\", \"\")\n",
    "                     .str.strip())"
   ]
  },
  {
   "cell_type": "code",
   "execution_count": 221,
   "metadata": {
    "ExecuteTime": {
     "end_time": "2021-07-09T21:01:35.314412Z",
     "start_time": "2021-07-09T21:01:35.293570Z"
    }
   },
   "outputs": [
    {
     "data": {
      "text/html": [
       "<div>\n",
       "<style scoped>\n",
       "    .dataframe tbody tr th:only-of-type {\n",
       "        vertical-align: middle;\n",
       "    }\n",
       "\n",
       "    .dataframe tbody tr th {\n",
       "        vertical-align: top;\n",
       "    }\n",
       "\n",
       "    .dataframe thead th {\n",
       "        text-align: right;\n",
       "    }\n",
       "</style>\n",
       "<table border=\"1\" class=\"dataframe\">\n",
       "  <thead>\n",
       "    <tr style=\"text-align: right;\">\n",
       "      <th></th>\n",
       "      <th>site_name</th>\n",
       "      <th>month</th>\n",
       "      <th>visitor_type</th>\n",
       "      <th>num_visitors</th>\n",
       "      <th>Region</th>\n",
       "      <th>site_type</th>\n",
       "      <th>year</th>\n",
       "      <th>site_city</th>\n",
       "    </tr>\n",
       "  </thead>\n",
       "  <tbody>\n",
       "    <tr>\n",
       "      <th>2</th>\n",
       "      <td>Pakistan Museum of Natural History</td>\n",
       "      <td>January</td>\n",
       "      <td>Foreigner</td>\n",
       "      <td>4</td>\n",
       "      <td>ISLAMABAD</td>\n",
       "      <td>Archaeological Museum</td>\n",
       "      <td>2014</td>\n",
       "      <td>Lahore</td>\n",
       "    </tr>\n",
       "    <tr>\n",
       "      <th>3</th>\n",
       "      <td>Lok Virsa Heritage Museum</td>\n",
       "      <td>January</td>\n",
       "      <td>Foreigner</td>\n",
       "      <td>177</td>\n",
       "      <td>ISLAMABAD</td>\n",
       "      <td>Archaeological Museum</td>\n",
       "      <td>2014</td>\n",
       "      <td>Islamabad</td>\n",
       "    </tr>\n",
       "    <tr>\n",
       "      <th>4</th>\n",
       "      <td>Pakistan Monument Museum</td>\n",
       "      <td>January</td>\n",
       "      <td>Foreigner</td>\n",
       "      <td>106</td>\n",
       "      <td>ISLAMABAD</td>\n",
       "      <td>Archaeological Museum</td>\n",
       "      <td>2014</td>\n",
       "      <td>Islamabad</td>\n",
       "    </tr>\n",
       "    <tr>\n",
       "      <th>6</th>\n",
       "      <td>Lahore Museum Lahore</td>\n",
       "      <td>January</td>\n",
       "      <td>Foreigner</td>\n",
       "      <td>257</td>\n",
       "      <td>PUNJAB</td>\n",
       "      <td>Archaeological Museum</td>\n",
       "      <td>2014</td>\n",
       "      <td>Islamabad</td>\n",
       "    </tr>\n",
       "    <tr>\n",
       "      <th>7</th>\n",
       "      <td>Allama Iqbal Library &amp; Museum</td>\n",
       "      <td>January</td>\n",
       "      <td>Foreigner</td>\n",
       "      <td>4</td>\n",
       "      <td>PUNJAB</td>\n",
       "      <td>Archaeological Museum</td>\n",
       "      <td>2014</td>\n",
       "      <td>Sialkot</td>\n",
       "    </tr>\n",
       "  </tbody>\n",
       "</table>\n",
       "</div>"
      ],
      "text/plain": [
       "                            site_name    month visitor_type num_visitors  \\\n",
       "2  Pakistan Museum of Natural History  January    Foreigner            4   \n",
       "3           Lok Virsa Heritage Museum  January    Foreigner          177   \n",
       "4            Pakistan Monument Museum  January    Foreigner          106   \n",
       "6                Lahore Museum Lahore  January    Foreigner          257   \n",
       "7       Allama Iqbal Library & Museum  January    Foreigner            4   \n",
       "\n",
       "      Region              site_type  year  site_city  \n",
       "2  ISLAMABAD  Archaeological Museum  2014     Lahore  \n",
       "3  ISLAMABAD  Archaeological Museum  2014  Islamabad  \n",
       "4  ISLAMABAD  Archaeological Museum  2014  Islamabad  \n",
       "6     PUNJAB  Archaeological Museum  2014  Islamabad  \n",
       "7     PUNJAB  Archaeological Museum  2014    Sialkot  "
      ]
     },
     "execution_count": 221,
     "metadata": {},
     "output_type": "execute_result"
    }
   ],
   "source": [
    "data.head()"
   ]
  },
  {
   "cell_type": "code",
   "execution_count": 222,
   "metadata": {
    "ExecuteTime": {
     "end_time": "2021-07-09T21:01:37.984939Z",
     "start_time": "2021-07-09T21:01:37.971637Z"
    }
   },
   "outputs": [
    {
     "name": "stdout",
     "output_type": "stream",
     "text": [
      "['-' '*' 'NIL' 'Nil']\n"
     ]
    }
   ],
   "source": [
    "# Next dealing with non_numeric value in num_visitors column\n",
    "non_numeric = [i for i in data[\"num_visitors\"].values if (not isinstance(i,int)) and (not isinstance(i, float))]\n",
    "\n",
    "print(pd.unique(non_numeric))"
   ]
  },
  {
   "cell_type": "code",
   "execution_count": 223,
   "metadata": {
    "ExecuteTime": {
     "end_time": "2021-07-09T21:01:39.664118Z",
     "start_time": "2021-07-09T21:01:39.659413Z"
    }
   },
   "outputs": [],
   "source": [
    "num_visitors_replacements = {\"-\": 0, \"*\": 0, \"NIL\": 0, \"Nil\":0}"
   ]
  },
  {
   "cell_type": "code",
   "execution_count": 224,
   "metadata": {
    "ExecuteTime": {
     "end_time": "2021-07-09T21:01:41.184841Z",
     "start_time": "2021-07-09T21:01:41.172556Z"
    }
   },
   "outputs": [],
   "source": [
    "#we are using the assumption that nulls and these other indicators mean 0 visitors\n",
    "\n",
    "data[\"num_visitors\"] = data[\"num_visitors\"].replace(num_visitors_replacements)\n",
    "\n",
    "#replace nulls with 0 as well\n",
    "\n",
    "data[\"num_visitors\"] = data[\"num_visitors\"].fillna(0)"
   ]
  },
  {
   "cell_type": "code",
   "execution_count": 225,
   "metadata": {
    "ExecuteTime": {
     "end_time": "2021-07-09T21:01:43.284268Z",
     "start_time": "2021-07-09T21:01:43.276005Z"
    }
   },
   "outputs": [],
   "source": [
    "# Formatting the entries in the region column\n",
    "data[\"Region\"] = data[\"Region\"].str.title()"
   ]
  },
  {
   "cell_type": "markdown",
   "metadata": {},
   "source": [
    "# Database Creation\n",
    "\n",
    "Following relational schema created to store the data, after normalizing the existing data table:\n",
    "\n",
    "<img src = \"Museum_Visitors | Relational_Schema.png\">"
   ]
  },
  {
   "cell_type": "code",
   "execution_count": 226,
   "metadata": {
    "ExecuteTime": {
     "end_time": "2021-07-09T21:01:45.818094Z",
     "start_time": "2021-07-09T21:01:45.804005Z"
    }
   },
   "outputs": [],
   "source": [
    "#Let's create a copy of our data.\n",
    "df = data.copy()"
   ]
  },
  {
   "cell_type": "markdown",
   "metadata": {},
   "source": [
    "## Isolate the data into separate dataframes as per the schema"
   ]
  },
  {
   "cell_type": "code",
   "execution_count": 227,
   "metadata": {
    "ExecuteTime": {
     "end_time": "2021-07-09T21:01:47.625174Z",
     "start_time": "2021-07-09T21:01:47.606883Z"
    }
   },
   "outputs": [],
   "source": [
    "location = df.loc[:,[\"site_city\", \"Region\"]]\n",
    "\n",
    "#convert the dataframe into a form suitable for entry into a database relation\n",
    "\n",
    "location = location.drop_duplicates(\"site_city\")\n",
    "location = location.sort_values(by = \"Region\")\n",
    "location[\"Region\"] = location[\"Region\"].str.title()\n",
    "location[\"loc_id\"] = np.arange(start=1, stop = len(location)+1)\n",
    "location = location.reset_index(drop = True)\n",
    "location = location.reindex([\"loc_id\", \"site_city\", \"Region\"], axis = 1)"
   ]
  },
  {
   "cell_type": "code",
   "execution_count": 228,
   "metadata": {
    "ExecuteTime": {
     "end_time": "2021-07-09T21:01:49.490374Z",
     "start_time": "2021-07-09T21:01:49.476675Z"
    }
   },
   "outputs": [
    {
     "data": {
      "text/html": [
       "<div>\n",
       "<style scoped>\n",
       "    .dataframe tbody tr th:only-of-type {\n",
       "        vertical-align: middle;\n",
       "    }\n",
       "\n",
       "    .dataframe tbody tr th {\n",
       "        vertical-align: top;\n",
       "    }\n",
       "\n",
       "    .dataframe thead th {\n",
       "        text-align: right;\n",
       "    }\n",
       "</style>\n",
       "<table border=\"1\" class=\"dataframe\">\n",
       "  <thead>\n",
       "    <tr style=\"text-align: right;\">\n",
       "      <th></th>\n",
       "      <th>loc_id</th>\n",
       "      <th>site_city</th>\n",
       "      <th>Region</th>\n",
       "    </tr>\n",
       "  </thead>\n",
       "  <tbody>\n",
       "    <tr>\n",
       "      <th>0</th>\n",
       "      <td>1</td>\n",
       "      <td>Quetta</td>\n",
       "      <td>Balochistan</td>\n",
       "    </tr>\n",
       "    <tr>\n",
       "      <th>1</th>\n",
       "      <td>2</td>\n",
       "      <td>Lahore</td>\n",
       "      <td>Islamabad</td>\n",
       "    </tr>\n",
       "    <tr>\n",
       "      <th>2</th>\n",
       "      <td>3</td>\n",
       "      <td>Islamabad</td>\n",
       "      <td>Islamabad</td>\n",
       "    </tr>\n",
       "  </tbody>\n",
       "</table>\n",
       "</div>"
      ],
      "text/plain": [
       "   loc_id  site_city       Region\n",
       "0       1     Quetta  Balochistan\n",
       "1       2     Lahore    Islamabad\n",
       "2       3  Islamabad    Islamabad"
      ]
     },
     "execution_count": 228,
     "metadata": {},
     "output_type": "execute_result"
    }
   ],
   "source": [
    "location.head(3)"
   ]
  },
  {
   "cell_type": "code",
   "execution_count": 229,
   "metadata": {
    "ExecuteTime": {
     "end_time": "2021-07-09T21:01:51.795240Z",
     "start_time": "2021-07-09T21:01:51.788262Z"
    }
   },
   "outputs": [],
   "source": [
    "#mapping to create a foreign key column in the site relation\n",
    "loc_id_fk = dict(zip(location[\"site_city\"], location[\"loc_id\"]))"
   ]
  },
  {
   "cell_type": "code",
   "execution_count": 230,
   "metadata": {
    "ExecuteTime": {
     "end_time": "2021-07-09T21:01:54.578646Z",
     "start_time": "2021-07-09T21:01:54.556422Z"
    }
   },
   "outputs": [],
   "source": [
    "site = df.loc[:,[\"site_name\", \"site_type\", \"site_city\"]]\n",
    "\n",
    "site = (site\n",
    "        .drop_duplicates(\"site_name\")\n",
    "        .reset_index(drop = True))\n",
    "\n",
    "site[\"loc_id\"] = site[\"site_city\"].map(loc_id_fk)\n",
    "site.drop(\"site_city\", axis =1, inplace = True)\n",
    "site[\"site_id\"] = np.arange(start=1, stop = len(site)+1)\n",
    "site = site.reindex([\"site_id\", \"site_name\", \"site_type\", \"loc_id\"], axis = 1)"
   ]
  },
  {
   "cell_type": "code",
   "execution_count": 231,
   "metadata": {
    "ExecuteTime": {
     "end_time": "2021-07-09T21:01:56.411611Z",
     "start_time": "2021-07-09T21:01:56.397442Z"
    }
   },
   "outputs": [
    {
     "data": {
      "text/html": [
       "<div>\n",
       "<style scoped>\n",
       "    .dataframe tbody tr th:only-of-type {\n",
       "        vertical-align: middle;\n",
       "    }\n",
       "\n",
       "    .dataframe tbody tr th {\n",
       "        vertical-align: top;\n",
       "    }\n",
       "\n",
       "    .dataframe thead th {\n",
       "        text-align: right;\n",
       "    }\n",
       "</style>\n",
       "<table border=\"1\" class=\"dataframe\">\n",
       "  <thead>\n",
       "    <tr style=\"text-align: right;\">\n",
       "      <th></th>\n",
       "      <th>site_id</th>\n",
       "      <th>site_name</th>\n",
       "      <th>site_type</th>\n",
       "      <th>loc_id</th>\n",
       "    </tr>\n",
       "  </thead>\n",
       "  <tbody>\n",
       "    <tr>\n",
       "      <th>0</th>\n",
       "      <td>1</td>\n",
       "      <td>Pakistan Museum of Natural History</td>\n",
       "      <td>Archaeological Museum</td>\n",
       "      <td>2</td>\n",
       "    </tr>\n",
       "    <tr>\n",
       "      <th>1</th>\n",
       "      <td>2</td>\n",
       "      <td>Lok Virsa Heritage Museum</td>\n",
       "      <td>Archaeological Museum</td>\n",
       "      <td>3</td>\n",
       "    </tr>\n",
       "    <tr>\n",
       "      <th>2</th>\n",
       "      <td>3</td>\n",
       "      <td>Pakistan Monument Museum</td>\n",
       "      <td>Archaeological Museum</td>\n",
       "      <td>3</td>\n",
       "    </tr>\n",
       "  </tbody>\n",
       "</table>\n",
       "</div>"
      ],
      "text/plain": [
       "   site_id                           site_name              site_type  loc_id\n",
       "0        1  Pakistan Museum of Natural History  Archaeological Museum       2\n",
       "1        2           Lok Virsa Heritage Museum  Archaeological Museum       3\n",
       "2        3            Pakistan Monument Museum  Archaeological Museum       3"
      ]
     },
     "execution_count": 231,
     "metadata": {},
     "output_type": "execute_result"
    }
   ],
   "source": [
    "site.head(3)"
   ]
  },
  {
   "cell_type": "code",
   "execution_count": 232,
   "metadata": {
    "ExecuteTime": {
     "end_time": "2021-07-09T21:01:58.360838Z",
     "start_time": "2021-07-09T21:01:58.355810Z"
    }
   },
   "outputs": [],
   "source": [
    "#mapping to create a foreign key column in the visit relation\n",
    "site_id_fk = dict(zip(site[\"site_name\"], site[\"site_id\"]))"
   ]
  },
  {
   "cell_type": "code",
   "execution_count": 233,
   "metadata": {
    "ExecuteTime": {
     "end_time": "2021-07-09T21:02:00.314760Z",
     "start_time": "2021-07-09T21:02:00.295945Z"
    }
   },
   "outputs": [],
   "source": [
    "visit = df.loc[:, [\"visitor_type\", \"month\", \"year\", \"num_visitors\", \"site_name\"]]\n",
    "\n",
    "visit = visit.reset_index(drop = True)\n",
    "\n",
    "visit[\"site_id\"] = visit[\"site_name\"].map(site_id_fk)\n",
    "visit.drop(\"site_name\", axis = 1, inplace = True)"
   ]
  },
  {
   "cell_type": "code",
   "execution_count": 234,
   "metadata": {
    "ExecuteTime": {
     "end_time": "2021-07-09T21:02:02.122415Z",
     "start_time": "2021-07-09T21:02:02.107880Z"
    }
   },
   "outputs": [
    {
     "data": {
      "text/html": [
       "<div>\n",
       "<style scoped>\n",
       "    .dataframe tbody tr th:only-of-type {\n",
       "        vertical-align: middle;\n",
       "    }\n",
       "\n",
       "    .dataframe tbody tr th {\n",
       "        vertical-align: top;\n",
       "    }\n",
       "\n",
       "    .dataframe thead th {\n",
       "        text-align: right;\n",
       "    }\n",
       "</style>\n",
       "<table border=\"1\" class=\"dataframe\">\n",
       "  <thead>\n",
       "    <tr style=\"text-align: right;\">\n",
       "      <th></th>\n",
       "      <th>visitor_type</th>\n",
       "      <th>month</th>\n",
       "      <th>year</th>\n",
       "      <th>num_visitors</th>\n",
       "      <th>site_id</th>\n",
       "    </tr>\n",
       "  </thead>\n",
       "  <tbody>\n",
       "    <tr>\n",
       "      <th>0</th>\n",
       "      <td>Foreigner</td>\n",
       "      <td>January</td>\n",
       "      <td>2014</td>\n",
       "      <td>4.0</td>\n",
       "      <td>1</td>\n",
       "    </tr>\n",
       "    <tr>\n",
       "      <th>1</th>\n",
       "      <td>Foreigner</td>\n",
       "      <td>January</td>\n",
       "      <td>2014</td>\n",
       "      <td>177.0</td>\n",
       "      <td>2</td>\n",
       "    </tr>\n",
       "    <tr>\n",
       "      <th>2</th>\n",
       "      <td>Foreigner</td>\n",
       "      <td>January</td>\n",
       "      <td>2014</td>\n",
       "      <td>106.0</td>\n",
       "      <td>3</td>\n",
       "    </tr>\n",
       "  </tbody>\n",
       "</table>\n",
       "</div>"
      ],
      "text/plain": [
       "  visitor_type    month  year  num_visitors  site_id\n",
       "0    Foreigner  January  2014           4.0        1\n",
       "1    Foreigner  January  2014         177.0        2\n",
       "2    Foreigner  January  2014         106.0        3"
      ]
     },
     "execution_count": 234,
     "metadata": {},
     "output_type": "execute_result"
    }
   ],
   "source": [
    "visit.head(3)"
   ]
  },
  {
   "cell_type": "markdown",
   "metadata": {},
   "source": [
    "## Create Database"
   ]
  },
  {
   "cell_type": "code",
   "execution_count": 238,
   "metadata": {
    "ExecuteTime": {
     "end_time": "2021-07-09T21:02:48.144646Z",
     "start_time": "2021-07-09T21:02:48.133148Z"
    }
   },
   "outputs": [],
   "source": [
    "\n",
    "def create_connection(db_file):\n",
    "    \"\"\"Create a database connection to a SQLite database\"\"\"\n",
    "    conn = None\n",
    "    try:\n",
    "        conn = sqlite3.connect(db_file)\n",
    "        print(\"Connection successful.\")\n",
    "        return conn\n",
    "    except Error as e:\n",
    "        print(e)\n",
    "\n",
    "            \n",
    "def create_table(conn, create_table_sql):\n",
    "    try:\n",
    "        c = conn.cursor()\n",
    "        c.execute(create_table_sql)\n",
    "    except Error as e:\n",
    "        print(e)\n",
    "        \n",
    "        \n",
    "def main():\n",
    "    db = \"museum_visitors.db\"\n",
    "    \n",
    "    sql_create_location_table = \"\"\" CREATE TABLE IF NOT EXISTS location(\n",
    "        loc_id integer PRIMARY KEY,\n",
    "        site_city text NOT NULL,\n",
    "        region text NOT NULL);\"\"\"\n",
    "\n",
    "\n",
    "    sql_create_site_table = \"\"\"CREATE TABLE IF NOT EXISTS site(\n",
    "        site_id integer PRIMARY KEY,\n",
    "        site_name text NOT NULL,\n",
    "        site_type text NOT NULL,\n",
    "        loc_id integer NOT NULL,\n",
    "        FOREIGN KEY (loc_id) REFERENCES location(loc_id));\"\"\"\n",
    "\n",
    "\n",
    "    sql_create_visit_table = \"\"\"CREATE TABLE IF NOT EXISTS visit(\n",
    "        visitor_type text NOT NULL,\n",
    "        month text NOT NULL,\n",
    "        year integer NOT NULL,\n",
    "        num_visitors real NOT NULL,\n",
    "        site_id integer NOT NULL,\n",
    "        PRIMARY KEY(visitor_type, month, year, site_id),\n",
    "        FOREIGN KEY (site_id) REFERENCES site(site_id));\"\"\"\n",
    "\n",
    "    conn = create_connection(db)\n",
    "    \n",
    "    if conn is not None:\n",
    "        #Create the location table\n",
    "        create_table(conn, sql_create_location_table)\n",
    "        \n",
    "        #Create the site table\n",
    "        create_table(conn, sql_create_site_table)\n",
    "        \n",
    "        #Create the Visit table\n",
    "        create_table(conn, sql_create_visit_table)\n",
    "    else:\n",
    "        print(\"Error! Cannot create the database connection\")\n",
    "\n"
   ]
  },
  {
   "cell_type": "code",
   "execution_count": 239,
   "metadata": {
    "ExecuteTime": {
     "end_time": "2021-07-09T21:02:51.605136Z",
     "start_time": "2021-07-09T21:02:51.583834Z"
    }
   },
   "outputs": [
    {
     "name": "stdout",
     "output_type": "stream",
     "text": [
      "Connection successful.\n"
     ]
    }
   ],
   "source": [
    "# let's run the main function to create the database and the relations\n",
    "\n",
    "main()"
   ]
  },
  {
   "cell_type": "code",
   "execution_count": 240,
   "metadata": {
    "ExecuteTime": {
     "end_time": "2021-07-09T21:02:53.054903Z",
     "start_time": "2021-07-09T21:02:53.040141Z"
    }
   },
   "outputs": [
    {
     "name": "stdout",
     "output_type": "stream",
     "text": [
      "Connection successful.\n"
     ]
    },
    {
     "data": {
      "text/plain": [
       "[('location',), ('site',), ('visit',)]"
      ]
     },
     "execution_count": 240,
     "metadata": {},
     "output_type": "execute_result"
    }
   ],
   "source": [
    "#Checking if intended tables created, also creating a cursor object for later use.\n",
    "conn = create_connection(\"museum_visitors.db\")\n",
    "c = conn.cursor()\n",
    "c.execute(\"SELECT name FROM sqlite_master WHERE type='table';\")\n",
    "c.fetchall()"
   ]
  },
  {
   "cell_type": "markdown",
   "metadata": {},
   "source": [
    "## Insert Data"
   ]
  },
  {
   "cell_type": "code",
   "execution_count": 241,
   "metadata": {
    "ExecuteTime": {
     "end_time": "2021-07-09T21:02:58.701207Z",
     "start_time": "2021-07-09T21:02:58.093807Z"
    }
   },
   "outputs": [
    {
     "name": "stdout",
     "output_type": "stream",
     "text": [
      "Populated the location table\n",
      "Populated the site table\n",
      "Populated the visit table\n"
     ]
    }
   ],
   "source": [
    "for i in range(len(location)):\n",
    "        c.execute(\"\"\"INSERT INTO location(\n",
    "                loc_id, site_city, region) VALUES \n",
    "                (%d, '%s', '%s')\"\"\" % ((location[\"loc_id\"][i]), location[\"site_city\"][i], location[\"Region\"][i]))\n",
    "        \n",
    "print(\"Populated the location table\")\n",
    "\n",
    "for i in range(len(site)):\n",
    "     c.execute(\"\"\"INSERT INTO site(\n",
    "                site_id, site_name, site_type, loc_id) VALUES \n",
    "                (%d, '%s', '%s', %d)\"\"\" % ((site[\"site_id\"][i]), site[\"site_name\"][i], site[\"site_type\"][i],\\\n",
    "                                                 site[\"loc_id\"][i]))\n",
    "print(\"Populated the site table\")\n",
    "\n",
    "\n",
    "for i in range(len(visit)):\n",
    "    c.execute(\"\"\"INSERT INTO visit(\n",
    "                visitor_type, month, year, num_visitors, site_id) VALUES \n",
    "                ('%s', '%s', %d, %d, %d)\"\"\" % ((visit[\"visitor_type\"][i]), visit[\"month\"][i], visit[\"year\"][i],\\\n",
    "                                                 visit[\"num_visitors\"][i], visit[\"site_id\"][i]))\n",
    "\n",
    "print(\"Populated the visit table\")"
   ]
  },
  {
   "cell_type": "code",
   "execution_count": 242,
   "metadata": {
    "ExecuteTime": {
     "end_time": "2021-07-09T21:03:00.370488Z",
     "start_time": "2021-07-09T21:03:00.358999Z"
    }
   },
   "outputs": [],
   "source": [
    "# commit the changes\n",
    "conn.commit()"
   ]
  },
  {
   "cell_type": "markdown",
   "metadata": {},
   "source": [
    "# Data Analysis\n",
    "\n",
    "\n",
    "With our database populated, we will use SQL to analyze the data and to find engaging insights."
   ]
  },
  {
   "cell_type": "markdown",
   "metadata": {},
   "source": [
    "## Over this time frame, were there more visitors to archaeological sites or to heritage museums?"
   ]
  },
  {
   "cell_type": "code",
   "execution_count": 243,
   "metadata": {
    "ExecuteTime": {
     "end_time": "2021-07-09T21:03:03.833567Z",
     "start_time": "2021-07-09T21:03:03.829633Z"
    }
   },
   "outputs": [],
   "source": [
    "query_1 = \"\"\"\n",
    "\n",
    "SELECT sum(num_visitors) AS Total_Visitors, site_type AS Site_Type\n",
    "FROM site, visit\n",
    "WHERE site.site_id = visit.site_id\n",
    "GROUP BY site_type\n",
    "ORDER BY Total_Visitors desc;\n",
    "\n",
    "\"\"\""
   ]
  },
  {
   "cell_type": "code",
   "execution_count": 244,
   "metadata": {
    "ExecuteTime": {
     "end_time": "2021-07-09T21:03:05.605986Z",
     "start_time": "2021-07-09T21:03:05.580934Z"
    }
   },
   "outputs": [
    {
     "data": {
      "text/html": [
       "<div>\n",
       "<style scoped>\n",
       "    .dataframe tbody tr th:only-of-type {\n",
       "        vertical-align: middle;\n",
       "    }\n",
       "\n",
       "    .dataframe tbody tr th {\n",
       "        vertical-align: top;\n",
       "    }\n",
       "\n",
       "    .dataframe thead th {\n",
       "        text-align: right;\n",
       "    }\n",
       "</style>\n",
       "<table border=\"1\" class=\"dataframe\">\n",
       "  <thead>\n",
       "    <tr style=\"text-align: right;\">\n",
       "      <th></th>\n",
       "      <th>Total_Visitors</th>\n",
       "      <th>Site_Type</th>\n",
       "    </tr>\n",
       "  </thead>\n",
       "  <tbody>\n",
       "    <tr>\n",
       "      <th>0</th>\n",
       "      <td>23,237,985.0</td>\n",
       "      <td>Heritage Site</td>\n",
       "    </tr>\n",
       "    <tr>\n",
       "      <th>1</th>\n",
       "      <td>13,929,427.0</td>\n",
       "      <td>Archaeological Museum</td>\n",
       "    </tr>\n",
       "  </tbody>\n",
       "</table>\n",
       "</div>"
      ],
      "text/plain": [
       "  Total_Visitors              Site_Type\n",
       "0   23,237,985.0          Heritage Site\n",
       "1   13,929,427.0  Archaeological Museum"
      ]
     },
     "execution_count": 244,
     "metadata": {},
     "output_type": "execute_result"
    }
   ],
   "source": [
    "output_1 = pd.read_sql(query_1,conn)\n",
    "result = output_1.copy()\n",
    "result[\"Total_Visitors\"] = result.apply(lambda x: \"{:,}\".format(x[\"Total_Visitors\"]), axis = 1)\n",
    "result"
   ]
  },
  {
   "cell_type": "code",
   "execution_count": 245,
   "metadata": {
    "ExecuteTime": {
     "end_time": "2021-07-09T21:03:07.724215Z",
     "start_time": "2021-07-09T21:03:07.551991Z"
    }
   },
   "outputs": [
    {
     "data": {
      "image/png": "[encoded data removed]",
      "text/plain": [
       "<Figure size 432x288 with 1 Axes>"
      ]
     },
     "metadata": {
      "needs_background": "light"
     },
     "output_type": "display_data"
    }
   ],
   "source": [
    "%matplotlib inline\n",
    "ax = output_1.plot.bar(x = \"Site_Type\", y = \"Total_Visitors\", legend = False, color = [\"g\", \"b\"], rot = 0)\n",
    "\n",
    "props = {\"title\": \"Total Number of Visitors (2014-2019)\", \"xlabel\": \"\", \\\n",
    "         \"ylabel\": \"Visitors (in ten millions)\"}\n",
    "\n",
    "ax = ax.set(**props)\n"
   ]
  },
  {
   "cell_type": "markdown",
   "metadata": {},
   "source": [
    "### Finding:\n",
    "\n",
    "Visitors to Heritage Sites outpaced visitors to Archaeological Museums"
   ]
  },
  {
   "cell_type": "markdown",
   "metadata": {},
   "source": [
    "## What was the trend in visitors to Heritage Sites and Archaeological Museums over this time frame?"
   ]
  },
  {
   "cell_type": "code",
   "execution_count": 246,
   "metadata": {
    "ExecuteTime": {
     "end_time": "2021-07-09T21:03:17.241438Z",
     "start_time": "2021-07-09T21:03:17.238103Z"
    }
   },
   "outputs": [],
   "source": [
    "query_2a = \"\"\"\n",
    "\n",
    "SELECT sum(num_visitors) AS Total_Visitors, year As Year\n",
    "FROM site, visit\n",
    "WHERE site.site_id = visit.site_id\n",
    "AND site_type = \"Heritage Site\"\n",
    "GROUP BY Year\n",
    "\n",
    "\"\"\""
   ]
  },
  {
   "cell_type": "markdown",
   "metadata": {},
   "source": [
    "Trend in visitors to Heritage Sites"
   ]
  },
  {
   "cell_type": "code",
   "execution_count": 247,
   "metadata": {
    "ExecuteTime": {
     "end_time": "2021-07-09T21:03:19.331980Z",
     "start_time": "2021-07-09T21:03:19.310339Z"
    }
   },
   "outputs": [
    {
     "data": {
      "text/html": [
       "<div>\n",
       "<style scoped>\n",
       "    .dataframe tbody tr th:only-of-type {\n",
       "        vertical-align: middle;\n",
       "    }\n",
       "\n",
       "    .dataframe tbody tr th {\n",
       "        vertical-align: top;\n",
       "    }\n",
       "\n",
       "    .dataframe thead th {\n",
       "        text-align: right;\n",
       "    }\n",
       "</style>\n",
       "<table border=\"1\" class=\"dataframe\">\n",
       "  <thead>\n",
       "    <tr style=\"text-align: right;\">\n",
       "      <th></th>\n",
       "      <th>Total_Visitors</th>\n",
       "      <th>Year</th>\n",
       "    </tr>\n",
       "  </thead>\n",
       "  <tbody>\n",
       "    <tr>\n",
       "      <th>0</th>\n",
       "      <td>1,594,769.0</td>\n",
       "      <td>2014</td>\n",
       "    </tr>\n",
       "    <tr>\n",
       "      <th>1</th>\n",
       "      <td>2,003,782.0</td>\n",
       "      <td>2015</td>\n",
       "    </tr>\n",
       "    <tr>\n",
       "      <th>2</th>\n",
       "      <td>3,195,965.0</td>\n",
       "      <td>2016</td>\n",
       "    </tr>\n",
       "    <tr>\n",
       "      <th>3</th>\n",
       "      <td>4,204,958.0</td>\n",
       "      <td>2017</td>\n",
       "    </tr>\n",
       "    <tr>\n",
       "      <th>4</th>\n",
       "      <td>6,636,623.0</td>\n",
       "      <td>2018</td>\n",
       "    </tr>\n",
       "    <tr>\n",
       "      <th>5</th>\n",
       "      <td>5,601,888.0</td>\n",
       "      <td>2019</td>\n",
       "    </tr>\n",
       "  </tbody>\n",
       "</table>\n",
       "</div>"
      ],
      "text/plain": [
       "  Total_Visitors  Year\n",
       "0    1,594,769.0  2014\n",
       "1    2,003,782.0  2015\n",
       "2    3,195,965.0  2016\n",
       "3    4,204,958.0  2017\n",
       "4    6,636,623.0  2018\n",
       "5    5,601,888.0  2019"
      ]
     },
     "execution_count": 247,
     "metadata": {},
     "output_type": "execute_result"
    }
   ],
   "source": [
    "output_2a = pd.read_sql(query_2a, conn)\n",
    "result_2a = output_2a.copy()\n",
    "result_2a[\"Total_Visitors\"] = result_2a.apply(lambda x: \"{:,}\".format(x[\"Total_Visitors\"]), axis = 1)\n",
    "result_2a"
   ]
  },
  {
   "cell_type": "code",
   "execution_count": 251,
   "metadata": {
    "ExecuteTime": {
     "end_time": "2021-07-09T21:03:32.146882Z",
     "start_time": "2021-07-09T21:03:32.142468Z"
    }
   },
   "outputs": [],
   "source": [
    "query_2b = \"\"\"\n",
    "\n",
    "SELECT sum(num_visitors) AS Total_Visitors, year As Year\n",
    "FROM site, visit\n",
    "WHERE site.site_id = visit.site_id\n",
    "AND site_type = \"Archaeological Museum\"\n",
    "GROUP BY Year\n",
    "\n",
    "\"\"\""
   ]
  },
  {
   "cell_type": "markdown",
   "metadata": {},
   "source": [
    "Trend in visitors to Archaeological Museums"
   ]
  },
  {
   "cell_type": "code",
   "execution_count": 253,
   "metadata": {
    "ExecuteTime": {
     "end_time": "2021-07-09T21:04:08.501174Z",
     "start_time": "2021-07-09T21:04:08.480788Z"
    }
   },
   "outputs": [
    {
     "data": {
      "text/html": [
       "<div>\n",
       "<style scoped>\n",
       "    .dataframe tbody tr th:only-of-type {\n",
       "        vertical-align: middle;\n",
       "    }\n",
       "\n",
       "    .dataframe tbody tr th {\n",
       "        vertical-align: top;\n",
       "    }\n",
       "\n",
       "    .dataframe thead th {\n",
       "        text-align: right;\n",
       "    }\n",
       "</style>\n",
       "<table border=\"1\" class=\"dataframe\">\n",
       "  <thead>\n",
       "    <tr style=\"text-align: right;\">\n",
       "      <th></th>\n",
       "      <th>Total_Visitors</th>\n",
       "      <th>Year</th>\n",
       "    </tr>\n",
       "  </thead>\n",
       "  <tbody>\n",
       "    <tr>\n",
       "      <th>0</th>\n",
       "      <td>1,774,298.0</td>\n",
       "      <td>2014</td>\n",
       "    </tr>\n",
       "    <tr>\n",
       "      <th>1</th>\n",
       "      <td>1,973,144.0</td>\n",
       "      <td>2015</td>\n",
       "    </tr>\n",
       "    <tr>\n",
       "      <th>2</th>\n",
       "      <td>2,239,129.0</td>\n",
       "      <td>2016</td>\n",
       "    </tr>\n",
       "    <tr>\n",
       "      <th>3</th>\n",
       "      <td>2,356,441.0</td>\n",
       "      <td>2017</td>\n",
       "    </tr>\n",
       "    <tr>\n",
       "      <th>4</th>\n",
       "      <td>2,691,182.0</td>\n",
       "      <td>2018</td>\n",
       "    </tr>\n",
       "    <tr>\n",
       "      <th>5</th>\n",
       "      <td>2,895,233.0</td>\n",
       "      <td>2019</td>\n",
       "    </tr>\n",
       "  </tbody>\n",
       "</table>\n",
       "</div>"
      ],
      "text/plain": [
       "  Total_Visitors  Year\n",
       "0    1,774,298.0  2014\n",
       "1    1,973,144.0  2015\n",
       "2    2,239,129.0  2016\n",
       "3    2,356,441.0  2017\n",
       "4    2,691,182.0  2018\n",
       "5    2,895,233.0  2019"
      ]
     },
     "execution_count": 253,
     "metadata": {},
     "output_type": "execute_result"
    }
   ],
   "source": [
    "output_2b = pd.read_sql(query_2b, conn)\n",
    "result_2b = output_2b.copy()\n",
    "result_2b[\"Total_Visitors\"] = result_2b.apply(lambda x: \"{:,}\".format(x[\"Total_Visitors\"]), axis = 1)\n",
    "result_2b"
   ]
  },
  {
   "cell_type": "markdown",
   "metadata": {},
   "source": [
    "Plotting the trends together"
   ]
  },
  {
   "cell_type": "code",
   "execution_count": 269,
   "metadata": {
    "ExecuteTime": {
     "end_time": "2021-07-09T21:13:02.735248Z",
     "start_time": "2021-07-09T21:13:02.506240Z"
    }
   },
   "outputs": [
    {
     "data": {
      "image/png": "[encoded data removed]",
      "text/plain": [
       "<Figure size 432x288 with 1 Axes>"
      ]
     },
     "metadata": {
      "needs_background": "light"
     },
     "output_type": "display_data"
    }
   ],
   "source": [
    "fig, ax = plt.subplots(1,1)\n",
    "\n",
    "ax.plot(output_2a[\"Year\"], output_2a[\"Total_Visitors\"], marker = \"o\", color = \"g\", label = \"Heritage Site\")\n",
    "ax.plot(output_2b[\"Year\"], output_2b[\"Total_Visitors\"], marker = \"o\", color = \"b\", label = \"Archaeological Museum\")\n",
    "ax.legend()\n",
    "\n",
    "props = {\"title\": \"Trend in Visitors by Site Type (2014-2019)\", \"xlabel\": \"Year\", \"ylabel\": \"Visitors\"}\n",
    "ax = ax.set(**props)"
   ]
  },
  {
   "cell_type": "markdown",
   "metadata": {},
   "source": [
    "### Finding:\n",
    "\n",
    "While there is significant growth in visitors to heritage sites, the growth in visitors to archaeological museums is meagre. It is interesting to note that visits to Archaeological Museums outpaced visits to Heritage Sites in 2014. This should spur research into why museums didn't see an uptick comparable to heritage sites over this time period."
   ]
  },
  {
   "cell_type": "markdown",
   "metadata": {},
   "source": [
    "## What is the distribution of destinations by region?"
   ]
  },
  {
   "cell_type": "code",
   "execution_count": 389,
   "metadata": {
    "ExecuteTime": {
     "end_time": "2021-07-12T19:33:29.750369Z",
     "start_time": "2021-07-12T19:33:29.736929Z"
    }
   },
   "outputs": [],
   "source": [
    "query_3 = \"\"\"\n",
    "\n",
    "SELECT region, site_type , count(site_type) as num_destinations\n",
    "FROM site, location\n",
    "WHERE site.loc_id = location.loc_id\n",
    "GROUP BY region, site_type\n",
    "\"\"\""
   ]
  },
  {
   "cell_type": "markdown",
   "metadata": {},
   "source": [
    "Distribution by region"
   ]
  },
  {
   "cell_type": "code",
   "execution_count": 390,
   "metadata": {
    "ExecuteTime": {
     "end_time": "2021-07-12T19:33:33.463191Z",
     "start_time": "2021-07-12T19:33:33.424804Z"
    }
   },
   "outputs": [
    {
     "data": {
      "text/html": [
       "<div>\n",
       "<style scoped>\n",
       "    .dataframe tbody tr th:only-of-type {\n",
       "        vertical-align: middle;\n",
       "    }\n",
       "\n",
       "    .dataframe tbody tr th {\n",
       "        vertical-align: top;\n",
       "    }\n",
       "\n",
       "    .dataframe thead th {\n",
       "        text-align: right;\n",
       "    }\n",
       "</style>\n",
       "<table border=\"1\" class=\"dataframe\">\n",
       "  <thead>\n",
       "    <tr style=\"text-align: right;\">\n",
       "      <th></th>\n",
       "      <th>region</th>\n",
       "      <th>site_type</th>\n",
       "      <th>num_destinations</th>\n",
       "    </tr>\n",
       "  </thead>\n",
       "  <tbody>\n",
       "    <tr>\n",
       "      <th>0</th>\n",
       "      <td>Balochistan</td>\n",
       "      <td>Archaeological Museum</td>\n",
       "      <td>1</td>\n",
       "    </tr>\n",
       "    <tr>\n",
       "      <th>1</th>\n",
       "      <td>Islamabad</td>\n",
       "      <td>Archaeological Museum</td>\n",
       "      <td>6</td>\n",
       "    </tr>\n",
       "    <tr>\n",
       "      <th>2</th>\n",
       "      <td>Islamabad</td>\n",
       "      <td>Heritage Site</td>\n",
       "      <td>3</td>\n",
       "    </tr>\n",
       "    <tr>\n",
       "      <th>3</th>\n",
       "      <td>Khyber Pakhtunkhwa</td>\n",
       "      <td>Archaeological Museum</td>\n",
       "      <td>3</td>\n",
       "    </tr>\n",
       "    <tr>\n",
       "      <th>4</th>\n",
       "      <td>Khyber Pakhtunkhwa</td>\n",
       "      <td>Heritage Site</td>\n",
       "      <td>3</td>\n",
       "    </tr>\n",
       "    <tr>\n",
       "      <th>5</th>\n",
       "      <td>Punjab</td>\n",
       "      <td>Archaeological Museum</td>\n",
       "      <td>4</td>\n",
       "    </tr>\n",
       "    <tr>\n",
       "      <th>6</th>\n",
       "      <td>Punjab</td>\n",
       "      <td>Heritage Site</td>\n",
       "      <td>3</td>\n",
       "    </tr>\n",
       "    <tr>\n",
       "      <th>7</th>\n",
       "      <td>Sindh</td>\n",
       "      <td>Archaeological Museum</td>\n",
       "      <td>8</td>\n",
       "    </tr>\n",
       "    <tr>\n",
       "      <th>8</th>\n",
       "      <td>Sindh</td>\n",
       "      <td>Heritage Site</td>\n",
       "      <td>4</td>\n",
       "    </tr>\n",
       "  </tbody>\n",
       "</table>\n",
       "</div>"
      ],
      "text/plain": [
       "               region              site_type  num_destinations\n",
       "0         Balochistan  Archaeological Museum                 1\n",
       "1           Islamabad  Archaeological Museum                 6\n",
       "2           Islamabad          Heritage Site                 3\n",
       "3  Khyber Pakhtunkhwa  Archaeological Museum                 3\n",
       "4  Khyber Pakhtunkhwa          Heritage Site                 3\n",
       "5              Punjab  Archaeological Museum                 4\n",
       "6              Punjab          Heritage Site                 3\n",
       "7               Sindh  Archaeological Museum                 8\n",
       "8               Sindh          Heritage Site                 4"
      ]
     },
     "execution_count": 390,
     "metadata": {},
     "output_type": "execute_result"
    }
   ],
   "source": [
    "output_3 = pd.read_sql(query_3, conn)\n",
    "\n",
    "output_3"
   ]
  },
  {
   "cell_type": "markdown",
   "metadata": {},
   "source": [
    "Plotting the distribution"
   ]
  },
  {
   "cell_type": "code",
   "execution_count": 463,
   "metadata": {
    "ExecuteTime": {
     "end_time": "2021-07-12T20:06:18.822664Z",
     "start_time": "2021-07-12T20:06:18.299946Z"
    }
   },
   "outputs": [
    {
     "data": {
      "image/png": "[encoded data removed]",
      "text/plain": [
       "<Figure size 720x360 with 2 Axes>"
      ]
     },
     "metadata": {
      "needs_background": "light"
     },
     "output_type": "display_data"
    }
   ],
   "source": [
    "g = sns.catplot(x = \"region\", y = \"num_destinations\", col = \"site_type\", kind = \"bar\", data = output_3)\n",
    "\n",
    "g = g.set_xticklabels(\n",
    "    labels=[\"Balochistan\", \"Islamabad\", \"Khyber Pakhtunkhwa\", \"Punjab\", \"Sindh\"], rotation= 45)\n"
   ]
  },
  {
   "cell_type": "markdown",
   "metadata": {},
   "source": [
    "### Finding:\n",
    "\n",
    "Most of the destinations are in Sindh, which is followed by the Federal Capital, Islamabad. "
   ]
  },
  {
   "cell_type": "markdown",
   "metadata": {},
   "source": [
    "# What was the trend in number of visitors by region?\n",
    "\n",
    "Does it correlate with the distribution of destinations (i.e. do regions with more destinations have a higher number of visitors?)"
   ]
  },
  {
   "cell_type": "code",
   "execution_count": 471,
   "metadata": {
    "ExecuteTime": {
     "end_time": "2021-07-12T20:11:50.761307Z",
     "start_time": "2021-07-12T20:11:50.756560Z"
    }
   },
   "outputs": [],
   "source": [
    "#Extract data on total visitors grouped by the region and the year\n",
    "\n",
    "query_4 = \"\"\"\n",
    "\n",
    "SELECT region, year, sum(num_visitors) as total_visitors\n",
    "FROM location, site, visit\n",
    "WHERE location.loc_id = site.loc_id\n",
    "AND site.site_id = visit.site_id\n",
    "GROUP BY region, year\n",
    "\n",
    "\n",
    "\"\"\""
   ]
  },
  {
   "cell_type": "code",
   "execution_count": 472,
   "metadata": {
    "ExecuteTime": {
     "end_time": "2021-07-12T20:11:52.662596Z",
     "start_time": "2021-07-12T20:11:52.641761Z"
    }
   },
   "outputs": [
    {
     "data": {
      "text/html": [
       "<div>\n",
       "<style scoped>\n",
       "    .dataframe tbody tr th:only-of-type {\n",
       "        vertical-align: middle;\n",
       "    }\n",
       "\n",
       "    .dataframe tbody tr th {\n",
       "        vertical-align: top;\n",
       "    }\n",
       "\n",
       "    .dataframe thead th {\n",
       "        text-align: right;\n",
       "    }\n",
       "</style>\n",
       "<table border=\"1\" class=\"dataframe\">\n",
       "  <thead>\n",
       "    <tr style=\"text-align: right;\">\n",
       "      <th></th>\n",
       "      <th>region</th>\n",
       "      <th>year</th>\n",
       "      <th>total_visitors</th>\n",
       "    </tr>\n",
       "  </thead>\n",
       "  <tbody>\n",
       "    <tr>\n",
       "      <th>0</th>\n",
       "      <td>Balochistan</td>\n",
       "      <td>2014</td>\n",
       "      <td>954.0</td>\n",
       "    </tr>\n",
       "    <tr>\n",
       "      <th>1</th>\n",
       "      <td>Balochistan</td>\n",
       "      <td>2015</td>\n",
       "      <td>1124.0</td>\n",
       "    </tr>\n",
       "    <tr>\n",
       "      <th>2</th>\n",
       "      <td>Balochistan</td>\n",
       "      <td>2016</td>\n",
       "      <td>1298.0</td>\n",
       "    </tr>\n",
       "    <tr>\n",
       "      <th>3</th>\n",
       "      <td>Balochistan</td>\n",
       "      <td>2017</td>\n",
       "      <td>1533.0</td>\n",
       "    </tr>\n",
       "    <tr>\n",
       "      <th>4</th>\n",
       "      <td>Balochistan</td>\n",
       "      <td>2018</td>\n",
       "      <td>1632.0</td>\n",
       "    </tr>\n",
       "  </tbody>\n",
       "</table>\n",
       "</div>"
      ],
      "text/plain": [
       "        region  year  total_visitors\n",
       "0  Balochistan  2014           954.0\n",
       "1  Balochistan  2015          1124.0\n",
       "2  Balochistan  2016          1298.0\n",
       "3  Balochistan  2017          1533.0\n",
       "4  Balochistan  2018          1632.0"
      ]
     },
     "execution_count": 472,
     "metadata": {},
     "output_type": "execute_result"
    }
   ],
   "source": [
    "output_4 = pd.read_sql(query_4, conn)\n",
    "output_4.head()"
   ]
  },
  {
   "cell_type": "markdown",
   "metadata": {},
   "source": [
    "There is a significant difference in the number of visitors by regions. Plotting on one graph doesn't show the trend correctly because of the spread of values on the y-axis, so we'll plot multiple graphs to clearly visualize the trends."
   ]
  },
  {
   "cell_type": "code",
   "execution_count": 561,
   "metadata": {
    "ExecuteTime": {
     "end_time": "2021-07-14T19:35:18.800584Z",
     "start_time": "2021-07-14T19:35:18.043394Z"
    }
   },
   "outputs": [
    {
     "data": {
      "text/plain": [
       "<matplotlib.axes._subplots.AxesSubplot at 0x1a2d82d198>"
      ]
     },
     "execution_count": 561,
     "metadata": {},
     "output_type": "execute_result"
    },
    {
     "data": {
      "image/png": "[encoded data removed]",
      "text/plain": [
       "<Figure size 576x1440 with 3 Axes>"
      ]
     },
     "metadata": {
      "needs_background": "light"
     },
     "output_type": "display_data"
    }
   ],
   "source": [
    "%matplotlib inline\n",
    "\n",
    "#isolating data for plots\n",
    "df_1 = output_4[(output_4[\"region\"] == \"Islamabad\")]\n",
    "df_2 = output_4[output_4[\"region\"] == \"Punjab\"]\n",
    "df_3 = output_4[~((output_4[\"region\"] == \"Islamabad\") | (output_4[\"region\"] == \"Punjab\"))]\n",
    "\n",
    "# create plots\n",
    "\n",
    "plt.figure(figsize = (8,20))\n",
    "\n",
    "plt.subplot(3,1,1)\n",
    "sns.lineplot(x = \"year\", y = \"total_visitors\", hue = \"region\", marker = \"o\", data = df_1)\n",
    "\n",
    "plt.subplot(3,1,2)\n",
    "sns.lineplot(x = \"year\", y = \"total_visitors\", palette = \"Set2\", hue = \"region\", marker = \"o\", data = df_2)\n",
    "\n",
    "plt.subplot(3,1,3)\n",
    "sns.lineplot(x = \"year\", y = \"total_visitors\", palette = \"Set1\", hue = \"region\", marker = \"o\", data = df_3)\n",
    "\n"
   ]
  },
  {
   "cell_type": "markdown",
   "metadata": {
    "ExecuteTime": {
     "end_time": "2021-07-14T19:17:41.767686Z",
     "start_time": "2021-07-14T19:17:41.760504Z"
    }
   },
   "source": [
    "### Finding\n",
    "\n",
    "The number of destinations per region doesn't seem to correlate with the number of visitors by region. Islamabad had more visitors than Sindh, though Sindh has more destinations. Second, whereas there is growth in the number of visitors for some regions, this upward trend isn't observed for others. "
   ]
  },
  {
   "cell_type": "markdown",
   "metadata": {},
   "source": [
    "# Suggestions for further analysis\n",
    "\n",
    "\n",
    "In this project, we created a clean and usable dataset and developed some insights on visits to archaeological museums and heritage sites in Pakistan. The data reveals interesting patterns such as visits to heritage museums outpacing visits to archaeological museums after 2014 and lack of a correlation between the number of destinations and number of visitors by region.\n",
    "\n",
    "For further analysis, we can investigate the trends observed and pinpoint which destinations contributed to the growth in visitors and which destinations lagged behind. Successful tourist spots can provide information on incentives or factors that encouraged visits, which can then be replicated to promote other destinations and increase tourism. An analysis of visitors by visitor type (foreign or national) can also help in growing domestic and foreign tourism.\n"
   ]
  }
 ],
 "metadata": {
  "kernelspec": {
   "display_name": "Python 3",
   "language": "python",
   "name": "python3"
  },
  "language_info": {
   "codemirror_mode": {
    "name": "ipython",
    "version": 3
   },
   "file_extension": ".py",
   "mimetype": "text/x-python",
   "name": "python",
   "nbconvert_exporter": "python",
   "pygments_lexer": "ipython3",
   "version": "3.7.3"
  },
  "toc": {
   "base_numbering": 1,
   "nav_menu": {},
   "number_sections": false,
   "sideBar": true,
   "skip_h1_title": false,
   "title_cell": "Table of Contents",
   "title_sidebar": "Contents",
   "toc_cell": false,
   "toc_position": {
    "height": "calc(100% - 180px)",
    "left": "10px",
    "top": "150px",
    "width": "384px"
   },
   "toc_section_display": true,
   "toc_window_display": false
  },
  "varInspector": {
   "cols": {
    "lenName": 16,
    "lenType": 16,
    "lenVar": 40
   },
   "kernels_config": {
    "python": {
     "delete_cmd_postfix": "",
     "delete_cmd_prefix": "del ",
     "library": "var_list.py",
     "varRefreshCmd": "print(var_dic_list())"
    },
    "r": {
     "delete_cmd_postfix": ") ",
     "delete_cmd_prefix": "rm(",
     "library": "var_list.r",
     "varRefreshCmd": "cat(var_dic_list()) "
    }
   },
   "types_to_exclude": [
    "module",
    "function",
    "builtin_function_or_method",
    "instance",
    "_Feature"
   ],
   "window_display": false
  }
 },
 "nbformat": 4,
 "nbformat_minor": 2
}
